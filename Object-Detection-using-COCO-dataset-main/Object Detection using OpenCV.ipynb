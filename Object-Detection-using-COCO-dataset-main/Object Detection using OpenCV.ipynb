{
 "cells": [
  {
   "cell_type": "markdown",
   "id": "5df82c15-b296-4782-a5f3-029b5dd2123b",
   "metadata": {},
   "source": [
    "# Object Detection using OpenCV and Pretrained DNN Model\n",
    "\n",
    "This notebook demonstrates how to use OpenCV and a pretrained DNN model for real-time object detection using a webcam. We will use Non-Max Suppression (NMS) to avoid multiple bounding boxes over a single object and the COCO dataset, which contains 80 object categories.\n",
    "\n",
    "## Import necessary libraries\n"
   ]
  },
  {
   "cell_type": "code",
   "execution_count": 12,
   "id": "04165a4e-269a-4507-a364-7ad479b97b17",
   "metadata": {},
   "outputs": [],
   "source": [
    "import cv2\n",
    "import numpy as np\n"
   ]
  },
  {
   "cell_type": "markdown",
   "id": "616c5c68-a155-4c52-b35d-8dfef51f5e61",
   "metadata": {},
   "source": [
    "##  Initialize the video capture\r\n"
   ]
  },
  {
   "cell_type": "code",
   "execution_count": 13,
   "id": "fb1302ab-a1fc-4676-88f7-ffabf59f51db",
   "metadata": {},
   "outputs": [
    {
     "data": {
      "text/plain": [
       "True"
      ]
     },
     "execution_count": 13,
     "metadata": {},
     "output_type": "execute_result"
    }
   ],
   "source": [
    "cap = cv2.VideoCapture(0)\n",
    "cap.set(3, 640)\n",
    "cap.set(4, 480)\n"
   ]
  },
  {
   "cell_type": "markdown",
   "id": "f6038379-b966-4ed8-b3a9-d6787b01b010",
   "metadata": {},
   "source": [
    "## Load class names\r\n",
    "\r\n",
    "The `coco.names` file contains the names of the classes that the model can detect.\r\n"
   ]
  },
  {
   "cell_type": "code",
   "execution_count": 14,
   "id": "af9edfcf-3e2e-435b-bf42-889e836a0e1e",
   "metadata": {},
   "outputs": [],
   "source": [
    "classNames = []\n",
    "classFile = 'coco.names'\n",
    "with open(classFile, 'rt') as f:\n",
    "    classNames = f.read().rstrip('\\n').split('\\n')\n"
   ]
  },
  {
   "cell_type": "markdown",
   "id": "95b336b0-0fea-4b26-890b-8c0dd1e24858",
   "metadata": {},
   "source": [
    "## Load the pretrained DNN model\r\n",
    "\r\n",
    "We use a MobileNet SSD model that has been pretrained on the COCO dataset.\r\n"
   ]
  },
  {
   "cell_type": "code",
   "execution_count": 15,
   "id": "ca28b467-d414-46ee-9d71-40fcf59f4e02",
   "metadata": {},
   "outputs": [
    {
     "data": {
      "text/plain": [
       "< cv2.dnn.Model 000001D150293590>"
      ]
     },
     "execution_count": 15,
     "metadata": {},
     "output_type": "execute_result"
    }
   ],
   "source": [
    "configPath = 'ssd_mobilenet_v3_large_coco_2020_01_14.pbtxt'\n",
    "weightsPath = 'frozen_inference_graph.pb'\n",
    "\n",
    "net = cv2.dnn.DetectionModel(weightsPath, configPath)\n",
    "net.setInputSize(320, 320)\n",
    "net.setInputScale(1.0 / 127.5)\n",
    "net.setInputMean((127.5, 127.5, 127.5))\n",
    "net.setInputSwapRB(True)\n"
   ]
  },
  {
   "cell_type": "markdown",
   "id": "82291f30-5326-4201-bd45-24e34faf0e89",
   "metadata": {},
   "source": [
    "##  Set parameters\r\n",
    "\r\n",
    "Set the confidence threshold and non-max suppression (NMS) threshold.\r\n"
   ]
  },
  {
   "cell_type": "code",
   "execution_count": 16,
   "id": "77761317-0688-47f9-b041-9853c1087b09",
   "metadata": {},
   "outputs": [],
   "source": [
    "thres = 0.5\n",
    "nms_threshold = 0.2\n"
   ]
  },
  {
   "cell_type": "markdown",
   "id": "2caf6aff-1c7e-4856-a7cb-27d7c5d12595",
   "metadata": {},
   "source": [
    "##  Detection loop\r\n",
    "\r\n",
    "Start a loop to read frames from the webcam, perform object detection, and display the results.\r\n"
   ]
  },
  {
   "cell_type": "code",
   "execution_count": 17,
   "id": "bea9733a-b843-4dff-9f16-5cc3b1a939c7",
   "metadata": {},
   "outputs": [],
   "source": [
    "# Start the detection loop\n",
    "while True:\n",
    "    success, img = cap.read()\n",
    "    if not success:\n",
    "        break\n",
    "\n",
    "    classIds, confs, bbox = net.detect(img, confThreshold=thres)\n",
    "\n",
    "    if len(classIds) != 0:\n",
    "        bbox = list(bbox)\n",
    "        confs = list(np.array(confs).reshape(1, -1)[0])\n",
    "        confs = list(map(float, confs))\n",
    "\n",
    "        indices = cv2.dnn.NMSBoxes(bbox, confs, thres, nms_threshold)\n",
    "\n",
    "        if len(indices) > 0:\n",
    "            for i in indices:\n",
    "                if isinstance(i, (list, np.ndarray)):\n",
    "                    i = i[0]  # Correctly access the index from NMS\n",
    "                box = bbox[i]\n",
    "                x, y, w, h = box\n",
    "                cv2.rectangle(img, (x, y), (x + w, y + h), color=(0, 255, 0), thickness=2)\n",
    "                # Access classIds correctly\n",
    "                if isinstance(classIds[i], (list, np.ndarray)):\n",
    "                    label = f\"{classNames[classIds[i][0] - 1].upper()} {confs[i]:.2f}\"\n",
    "                else:\n",
    "                    label = f\"{classNames[classIds[i] - 1].upper()} {confs[i]:.2f}\"\n",
    "                cv2.putText(img, label, (x, y - 10), cv2.FONT_HERSHEY_SIMPLEX, 0.5, (0, 255, 0), 2)\n",
    "\n",
    "    cv2.imshow(\"output\", img)\n",
    "    if cv2.waitKey(1) & 0xFF == ord('q'):\n",
    "        break\n",
    "\n",
    "cap.release()\n",
    "cv2.destroyAllWindows()\n",
    "\n",
    "\n"
   ]
  }
 ],
 "metadata": {
  "kernelspec": {
   "display_name": "Python 3 (ipykernel)",
   "language": "python",
   "name": "python3"
  },
  "language_info": {
   "codemirror_mode": {
    "name": "ipython",
    "version": 3
   },
   "file_extension": ".py",
   "mimetype": "text/x-python",
   "name": "python",
   "nbconvert_exporter": "python",
   "pygments_lexer": "ipython3",
   "version": "3.10.14"
  }
 },
 "nbformat": 4,
 "nbformat_minor": 5
}
